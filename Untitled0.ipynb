{
  "nbformat": 4,
  "nbformat_minor": 0,
  "metadata": {
    "colab": {
      "name": "Untitled0.ipynb",
      "provenance": [],
      "include_colab_link": true
    },
    "kernelspec": {
      "name": "python3",
      "display_name": "Python 3"
    }
  },
  "cells": [
    {
      "cell_type": "markdown",
      "metadata": {
        "id": "view-in-github",
        "colab_type": "text"
      },
      "source": [
        "<a href=\"https://colab.research.google.com/github/chiranjeev1990/ML2/blob/master/Untitled0.ipynb\" target=\"_parent\"><img src=\"https://colab.research.google.com/assets/colab-badge.svg\" alt=\"Open In Colab\"/></a>"
      ]
    },
    {
      "cell_type": "markdown",
      "metadata": {
        "id": "7bRVHHNdYcR0",
        "colab_type": "text"
      },
      "source": [
        "**Task 1:**"
      ]
    },
    {
      "cell_type": "markdown",
      "metadata": {
        "id": "D0ynNYrVYo5H",
        "colab_type": "text"
      },
      "source": [
        "Question 2:"
      ]
    },
    {
      "cell_type": "code",
      "metadata": {
        "id": "SWFbIecwYkKV",
        "colab_type": "code",
        "colab": {
          "base_uri": "https://localhost:8080/",
          "height": 1000
        },
        "outputId": "1c2a954c-f985-4128-ca31-46d379b031b5"
      },
      "source": [
        "mysep = \"\"\n",
        "for i in range(2000,3201):\n",
        "    if(i%7==0) and (i%5 !=0):\n",
        "        print(mysep,i,sep=\"\")\n",
        "        mysep=\",\""
      ],
      "execution_count": 1,
      "outputs": [
        {
          "output_type": "stream",
          "text": [
            "2002\n",
            ",2009\n",
            ",2016\n",
            ",2023\n",
            ",2037\n",
            ",2044\n",
            ",2051\n",
            ",2058\n",
            ",2072\n",
            ",2079\n",
            ",2086\n",
            ",2093\n",
            ",2107\n",
            ",2114\n",
            ",2121\n",
            ",2128\n",
            ",2142\n",
            ",2149\n",
            ",2156\n",
            ",2163\n",
            ",2177\n",
            ",2184\n",
            ",2191\n",
            ",2198\n",
            ",2212\n",
            ",2219\n",
            ",2226\n",
            ",2233\n",
            ",2247\n",
            ",2254\n",
            ",2261\n",
            ",2268\n",
            ",2282\n",
            ",2289\n",
            ",2296\n",
            ",2303\n",
            ",2317\n",
            ",2324\n",
            ",2331\n",
            ",2338\n",
            ",2352\n",
            ",2359\n",
            ",2366\n",
            ",2373\n",
            ",2387\n",
            ",2394\n",
            ",2401\n",
            ",2408\n",
            ",2422\n",
            ",2429\n",
            ",2436\n",
            ",2443\n",
            ",2457\n",
            ",2464\n",
            ",2471\n",
            ",2478\n",
            ",2492\n",
            ",2499\n",
            ",2506\n",
            ",2513\n",
            ",2527\n",
            ",2534\n",
            ",2541\n",
            ",2548\n",
            ",2562\n",
            ",2569\n",
            ",2576\n",
            ",2583\n",
            ",2597\n",
            ",2604\n",
            ",2611\n",
            ",2618\n",
            ",2632\n",
            ",2639\n",
            ",2646\n",
            ",2653\n",
            ",2667\n",
            ",2674\n",
            ",2681\n",
            ",2688\n",
            ",2702\n",
            ",2709\n",
            ",2716\n",
            ",2723\n",
            ",2737\n",
            ",2744\n",
            ",2751\n",
            ",2758\n",
            ",2772\n",
            ",2779\n",
            ",2786\n",
            ",2793\n",
            ",2807\n",
            ",2814\n",
            ",2821\n",
            ",2828\n",
            ",2842\n",
            ",2849\n",
            ",2856\n",
            ",2863\n",
            ",2877\n",
            ",2884\n",
            ",2891\n",
            ",2898\n",
            ",2912\n",
            ",2919\n",
            ",2926\n",
            ",2933\n",
            ",2947\n",
            ",2954\n",
            ",2961\n",
            ",2968\n",
            ",2982\n",
            ",2989\n",
            ",2996\n",
            ",3003\n",
            ",3017\n",
            ",3024\n",
            ",3031\n",
            ",3038\n",
            ",3052\n",
            ",3059\n",
            ",3066\n",
            ",3073\n",
            ",3087\n",
            ",3094\n",
            ",3101\n",
            ",3108\n",
            ",3122\n",
            ",3129\n",
            ",3136\n",
            ",3143\n",
            ",3157\n",
            ",3164\n",
            ",3171\n",
            ",3178\n",
            ",3192\n",
            ",3199\n"
          ],
          "name": "stdout"
        }
      ]
    },
    {
      "cell_type": "markdown",
      "metadata": {
        "id": "Rrs6QkaJYwGV",
        "colab_type": "text"
      },
      "source": [
        "Question 2:"
      ]
    },
    {
      "cell_type": "code",
      "metadata": {
        "id": "cPTZC0FAYx4h",
        "colab_type": "code",
        "colab": {
          "base_uri": "https://localhost:8080/",
          "height": 54
        },
        "outputId": "7976dd35-5f1e-4caa-b3e8-ff6ae15a11fa"
      },
      "source": [
        "for i in range(2000,3201):\n",
        "    if(i%7==0) and (i%5 !=0):\n",
        "        print(mysep,i,end=\",\")"
      ],
      "execution_count": 2,
      "outputs": [
        {
          "output_type": "stream",
          "text": [
            ", 2002,, 2009,, 2016,, 2023,, 2037,, 2044,, 2051,, 2058,, 2072,, 2079,, 2086,, 2093,, 2107,, 2114,, 2121,, 2128,, 2142,, 2149,, 2156,, 2163,, 2177,, 2184,, 2191,, 2198,, 2212,, 2219,, 2226,, 2233,, 2247,, 2254,, 2261,, 2268,, 2282,, 2289,, 2296,, 2303,, 2317,, 2324,, 2331,, 2338,, 2352,, 2359,, 2366,, 2373,, 2387,, 2394,, 2401,, 2408,, 2422,, 2429,, 2436,, 2443,, 2457,, 2464,, 2471,, 2478,, 2492,, 2499,, 2506,, 2513,, 2527,, 2534,, 2541,, 2548,, 2562,, 2569,, 2576,, 2583,, 2597,, 2604,, 2611,, 2618,, 2632,, 2639,, 2646,, 2653,, 2667,, 2674,, 2681,, 2688,, 2702,, 2709,, 2716,, 2723,, 2737,, 2744,, 2751,, 2758,, 2772,, 2779,, 2786,, 2793,, 2807,, 2814,, 2821,, 2828,, 2842,, 2849,, 2856,, 2863,, 2877,, 2884,, 2891,, 2898,, 2912,, 2919,, 2926,, 2933,, 2947,, 2954,, 2961,, 2968,, 2982,, 2989,, 2996,, 3003,, 3017,, 3024,, 3031,, 3038,, 3052,, 3059,, 3066,, 3073,, 3087,, 3094,, 3101,, 3108,, 3122,, 3129,, 3136,, 3143,, 3157,, 3164,, 3171,, 3178,, 3192,, 3199,"
          ],
          "name": "stdout"
        }
      ]
    },
    {
      "cell_type": "markdown",
      "metadata": {
        "id": "ghJbTypVZAcQ",
        "colab_type": "text"
      },
      "source": [
        "Question 3:"
      ]
    },
    {
      "cell_type": "code",
      "metadata": {
        "id": "ZK3hXwckZBYo",
        "colab_type": "code",
        "colab": {}
      },
      "source": [
        "first_name = input(\"Enter your first name : \")\n",
        "last_name = input(\"Enter your last name : \")\n",
        "name = last_name + \" \" + first_name\n",
        "print(name)"
      ],
      "execution_count": 0,
      "outputs": []
    },
    {
      "cell_type": "markdown",
      "metadata": {
        "id": "iytAty8kZC3K",
        "colab_type": "text"
      },
      "source": [
        "Question 4:"
      ]
    },
    {
      "cell_type": "code",
      "metadata": {
        "id": "NwI2DalgZKxc",
        "colab_type": "code",
        "colab": {
          "base_uri": "https://localhost:8080/",
          "height": 51
        },
        "outputId": "8d6b7ecd-d4f5-4682-9b4f-3bc0248d326e"
      },
      "source": [
        "diameter = float(input(\"Enter the diamter value : \"))\n",
        "PI = 3.14\n",
        "volume = (4/3)*PI*((diameter/2)**3)\n",
        "print(\"The volume of the sphere is : %.2f\" %volume)12\n"
      ],
      "execution_count": 3,
      "outputs": [
        {
          "output_type": "stream",
          "text": [
            "Enter the diamter value : 12\n",
            "The volume of the sphere is : 904.32\n"
          ],
          "name": "stdout"
        }
      ]
    },
    {
      "cell_type": "markdown",
      "metadata": {
        "id": "1KKwmx_5ZOa6",
        "colab_type": "text"
      },
      "source": [
        "**TASK 2**"
      ]
    },
    {
      "cell_type": "markdown",
      "metadata": {
        "id": "mZwS-y_gZRaP",
        "colab_type": "text"
      },
      "source": [
        "Question 1:"
      ]
    },
    {
      "cell_type": "code",
      "metadata": {
        "id": "WTnzZO45ZTT3",
        "colab_type": "code",
        "colab": {}
      },
      "source": [
        "lst = []\n",
        "n = int(input(\"Enter number of elements: \"))\n",
        "for i in range(0,n):\n",
        "    ele = int(input())\n",
        "    lst.append(ele)\n",
        "print(lst)"
      ],
      "execution_count": 0,
      "outputs": []
    },
    {
      "cell_type": "markdown",
      "metadata": {
        "id": "JkZuFUJRZVGJ",
        "colab_type": "text"
      },
      "source": [
        "Question 1:"
      ]
    },
    {
      "cell_type": "code",
      "metadata": {
        "id": "Cn_-YFTYZXpN",
        "colab_type": "code",
        "colab": {}
      },
      "source": [
        "lis = input(\"Enter a number of comma separated numbers: \")\n",
        "lis = lis.split(\",\")\n",
        "print(lis)"
      ],
      "execution_count": 0,
      "outputs": []
    },
    {
      "cell_type": "markdown",
      "metadata": {
        "id": "eyeeF4WiZaCF",
        "colab_type": "text"
      },
      "source": [
        "Question 2:"
      ]
    },
    {
      "cell_type": "code",
      "metadata": {
        "id": "TPGfxNvdZbMn",
        "colab_type": "code",
        "colab": {}
      },
      "source": [
        "for i in range(0,5):\n",
        "    for j in range(0,i+1):\n",
        "        print(\"* \",end=\"\")\n",
        "    print(\"\\r\")\n",
        "for i in range (5, 0, -1):\n",
        "    for j in range(0, i-1):\n",
        "        print(\"* \", end=\"\")\n",
        "    print(\"\\r\")"
      ],
      "execution_count": 0,
      "outputs": []
    },
    {
      "cell_type": "markdown",
      "metadata": {
        "id": "Q0kVGWwnZeWX",
        "colab_type": "text"
      },
      "source": [
        "Question 3:"
      ]
    },
    {
      "cell_type": "code",
      "metadata": {
        "id": "JyPOGbVGZfLc",
        "colab_type": "code",
        "colab": {}
      },
      "source": [
        "word = input(\"Enter anything of your choice: \")\n",
        "for i in range(len(word) - 1, -1, -1):\n",
        "    print(word[i], end=\"\")\n",
        "print(\"\\n\")"
      ],
      "execution_count": 0,
      "outputs": []
    },
    {
      "cell_type": "markdown",
      "metadata": {
        "id": "uOfH_MdgZgoE",
        "colab_type": "text"
      },
      "source": [
        "Question 4:"
      ]
    },
    {
      "cell_type": "code",
      "metadata": {
        "id": "CG06EmcBZjHw",
        "colab_type": "code",
        "colab": {
          "base_uri": "https://localhost:8080/",
          "height": 85
        },
        "outputId": "c59d4efe-0792-44e8-894e-2afb2eabd2c2"
      },
      "source": [
        "input_str = \"WE, THE PEOPLE OF INDIA,\" \"\\n\" + \"\\t\" + \" having solemnly resolved to constitute India into a SOVEREIGN, !\" \"\\n\"+ \"\\t\" + \" SOCIALIST, SECULAR, DEMOCRATIC REPUBLIC\" + \"\\n\" \"\\t\"+ \"  \" + \"and to secure to all its citizens\"\n",
        "print(input_str)"
      ],
      "execution_count": 4,
      "outputs": [
        {
          "output_type": "stream",
          "text": [
            "WE, THE PEOPLE OF INDIA,\n",
            "\t having solemnly resolved to constitute India into a SOVEREIGN, !\n",
            "\t SOCIALIST, SECULAR, DEMOCRATIC REPUBLIC\n",
            "\t  and to secure to all its citizens\n"
          ],
          "name": "stdout"
        }
      ]
    }
  ]
}